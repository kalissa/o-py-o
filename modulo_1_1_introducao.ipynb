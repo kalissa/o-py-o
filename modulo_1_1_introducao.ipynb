{
  "cells": [
    {
      "cell_type": "markdown",
      "metadata": {
        "id": "view-in-github",
        "colab_type": "text"
      },
      "source": [
        "<a href=\"https://colab.research.google.com/github/kalissa/o-py-o/blob/master/modulo_1_1_introducao.ipynb\" target=\"_parent\"><img src=\"https://colab.research.google.com/assets/colab-badge.svg\" alt=\"Open In Colab\"/></a>"
      ]
    },
    {
      "cell_type": "markdown",
      "metadata": {
        "id": "vIT4SeLuUa_Y"
      },
      "source": [
        "<img src=\"https://github.com/kalissa/o-py-o/blob/master/imagens/1.png?raw=1\">\n",
        "\n",
        "## Revisando o conteúdo da semana!"
      ]
    },
    {
      "cell_type": "markdown",
      "metadata": {
        "id": "4CDmjwq0Ua_a"
      },
      "source": [
        "1) Em uma instrução `print()`, o que acontece se você omitir um dos parênteses ou ambos?"
      ]
    },
    {
      "cell_type": "code",
      "execution_count": null,
      "metadata": {
        "id": "4B6qK4cnUa_a",
        "outputId": "4fbe7264-15e1-456d-d5f2-500721cef549",
        "colab": {
          "base_uri": "https://localhost:8080/",
          "height": 130
        }
      },
      "outputs": [
        {
          "output_type": "error",
          "ename": "SyntaxError",
          "evalue": "ignored",
          "traceback": [
            "\u001b[0;36m  File \u001b[0;32m\"<ipython-input-2-529756e54b89>\"\u001b[0;36m, line \u001b[0;32m1\u001b[0m\n\u001b[0;31m    print('Hello world'\u001b[0m\n\u001b[0m                       ^\u001b[0m\n\u001b[0;31mSyntaxError\u001b[0m\u001b[0;31m:\u001b[0m unexpected EOF while parsing\n"
          ]
        }
      ],
      "source": [
        "#print('Hello world' #erro de syntaxe"
      ]
    },
    {
      "cell_type": "markdown",
      "metadata": {
        "id": "Az-0d0K4Ua_a"
      },
      "source": [
        "2) O que acontece se puser um sinal de mais antes de um número? E se escrever assim: `2++2`?"
      ]
    },
    {
      "cell_type": "code",
      "execution_count": null,
      "metadata": {
        "id": "dpVRU9wmUa_a",
        "outputId": "ce00c44b-feed-4269-ec80-5607e51cd1be",
        "colab": {
          "base_uri": "https://localhost:8080/"
        }
      },
      "outputs": [
        {
          "output_type": "execute_result",
          "data": {
            "text/plain": [
              "4"
            ]
          },
          "metadata": {},
          "execution_count": 4
        }
      ],
      "source": [
        "+2 #número positivo\n",
        "2++2 #soma"
      ]
    },
    {
      "cell_type": "markdown",
      "metadata": {
        "id": "27nKYR5oUa_b"
      },
      "source": [
        "3) O que acontece se você tentar usar 02 isso no Python?"
      ]
    },
    {
      "cell_type": "code",
      "execution_count": null,
      "metadata": {
        "id": "8YOBlvckUa_b"
      },
      "outputs": [],
      "source": [
        "#02 #erro de sintaxe, por ser um número inteiro não é permitido haver zero na frente"
      ]
    },
    {
      "cell_type": "markdown",
      "metadata": {
        "id": "3rhocOrvUa_b"
      },
      "source": [
        "4) Quantos segundos há em 42 minutos e 42 segundos?"
      ]
    },
    {
      "cell_type": "code",
      "execution_count": null,
      "metadata": {
        "id": "vIxybi_4Ua_b",
        "outputId": "8e1864e3-4a2e-445a-f974-96ed3275bcef",
        "colab": {
          "base_uri": "https://localhost:8080/",
          "height": 36
        }
      },
      "outputs": [
        {
          "output_type": "execute_result",
          "data": {
            "text/plain": [
              "'2562seg'"
            ],
            "application/vnd.google.colaboratory.intrinsic+json": {
              "type": "string"
            }
          },
          "metadata": {},
          "execution_count": 8
        }
      ],
      "source": [
        "f\"{(42*60)+42}seg\" #f-string"
      ]
    },
    {
      "cell_type": "markdown",
      "metadata": {
        "id": "Fmcef6YhUa_c"
      },
      "source": [
        "5) Vimos que `n = 42` é funciona. E `42 = n`?"
      ]
    },
    {
      "cell_type": "code",
      "execution_count": null,
      "metadata": {
        "id": "70y3VxmDUa_c"
      },
      "outputs": [],
      "source": [
        "#42=n #não é possível ter números em nomes de variáveis"
      ]
    },
    {
      "cell_type": "markdown",
      "metadata": {
        "id": "H6Gnd8_uUa_c"
      },
      "source": [
        "6) Qual é o resultado da expressão `x = y = 1`? Você consegue explicar o que aconteceu aqui?"
      ]
    },
    {
      "cell_type": "code",
      "execution_count": 1,
      "metadata": {
        "id": "0mOmMqKHUa_d",
        "outputId": "53da5afc-9720-4b0c-a279-b376900f81f5",
        "colab": {
          "base_uri": "https://localhost:8080/"
        }
      },
      "outputs": [
        {
          "output_type": "stream",
          "name": "stdout",
          "text": [
            "1 1\n"
          ]
        }
      ],
      "source": [
        "x=y=1\n",
        "print(x,y) #a variável x recebe y, y recebe 1; consequentemente, ambas = 1"
      ]
    },
    {
      "cell_type": "markdown",
      "metadata": {
        "id": "1YaUkp4rUa_e"
      },
      "source": [
        "7) O que acontece se você puser um ponto e vírgula no fim de uma instrução no Python? E um ponto?"
      ]
    },
    {
      "cell_type": "code",
      "execution_count": 5,
      "metadata": {
        "id": "ptEf3ujsUa_e",
        "colab": {
          "base_uri": "https://localhost:8080/"
        },
        "outputId": "93df218a-8a59-4214-965e-87956cbd9192"
      },
      "outputs": [
        {
          "output_type": "stream",
          "name": "stdout",
          "text": [
            "teste\n"
          ]
        }
      ],
      "source": [
        "print('teste'); #; passa, é usado em mtas outras linguagens\n",
        "#print('teste'). #. não passa, erro de sintaxe"
      ]
    },
    {
      "cell_type": "markdown",
      "metadata": {
        "id": "LEfHyrx6Ua_f"
      },
      "source": [
        "8) Em notação matemática é possível multiplicar x e y desta forma: xy. O que acontece se você tentar fazer o mesmo no Python?\n",
        "\n",
        "```python\n",
        "x = 2\n",
        "y = 8\n",
        "\n",
        "xy\n",
        "```"
      ]
    },
    {
      "cell_type": "code",
      "execution_count": 7,
      "metadata": {
        "id": "76cw9keIUa_f",
        "colab": {
          "base_uri": "https://localhost:8080/"
        },
        "outputId": "df8c7e53-981e-4b0d-a1a6-fcddae2dd4e4"
      },
      "outputs": [
        {
          "output_type": "execute_result",
          "data": {
            "text/plain": [
              "16"
            ]
          },
          "metadata": {},
          "execution_count": 7
        }
      ],
      "source": [
        "x = 2\n",
        "y = 8\n",
        "\n",
        "#xy #xy é interpretada como uma variável que não existe\n",
        "x*y"
      ]
    },
    {
      "cell_type": "markdown",
      "metadata": {
        "id": "PBlbJhnwUa_f"
      },
      "source": [
        "9) O que significa a saída do código abaixo?\n",
        "\n",
        "```python\n",
        "nome = 'Grupo de estudos Ó Py Ó'\n",
        "type(nome)\n",
        "```"
      ]
    },
    {
      "cell_type": "code",
      "execution_count": 8,
      "metadata": {
        "id": "YJyL6Yz1Ua_g",
        "colab": {
          "base_uri": "https://localhost:8080/"
        },
        "outputId": "d3df942a-6956-40a4-9f86-878f9f7b141c"
      },
      "outputs": [
        {
          "output_type": "execute_result",
          "data": {
            "text/plain": [
              "str"
            ]
          },
          "metadata": {},
          "execution_count": 8
        }
      ],
      "source": [
        "nome = 'Grupo de estudos Ó Py Ó'\n",
        "type(nome) #retorna o tipo da variável, nesse caso, string"
      ]
    },
    {
      "cell_type": "markdown",
      "metadata": {
        "id": "y2Rt4UOaUa_g"
      },
      "source": [
        "10) Repdoruza um erro de sintaxe"
      ]
    },
    {
      "cell_type": "code",
      "execution_count": 11,
      "metadata": {
        "id": "DPClLpo5Ua_h"
      },
      "outputs": [],
      "source": [
        "#print('teste)"
      ]
    },
    {
      "cell_type": "markdown",
      "metadata": {
        "id": "lnSFXDxjUa_h"
      },
      "source": [
        "11) Reproduza um erro de identação"
      ]
    },
    {
      "cell_type": "code",
      "execution_count": 16,
      "metadata": {
        "id": "ych9QYByUa_h",
        "colab": {
          "base_uri": "https://localhost:8080/"
        },
        "outputId": "50fd0efa-260a-4f1f-a7ba-1b7994e0e020"
      },
      "outputs": [
        {
          "output_type": "stream",
          "name": "stdout",
          "text": [
            "2\n"
          ]
        }
      ],
      "source": [
        "if(x==0):\n",
        "  x==1;\n",
        "  #else:\n",
        "  x==2;\n",
        "print(x)\n"
      ]
    },
    {
      "cell_type": "markdown",
      "metadata": {
        "id": "Za54x_4_Ua_h"
      },
      "source": [
        "---"
      ]
    },
    {
      "cell_type": "markdown",
      "metadata": {
        "id": "TltAL9FmUa_h"
      },
      "source": [
        "## Quais são as outras formas de praticar esses conceitos?\n",
        "\n",
        "<img src=\"https://media.giphy.com/media/2wS8Hh619rZvvf95op/giphy.gif\" align=\"left\">"
      ]
    },
    {
      "cell_type": "markdown",
      "metadata": {
        "id": "6sTSXCwUUa_i"
      },
      "source": [
        "<Adicionar atividade de sua preferência para aplicação dos conceitos>"
      ]
    }
  ],
  "metadata": {
    "kernelspec": {
      "display_name": "Python 3",
      "language": "python",
      "name": "python3"
    },
    "language_info": {
      "codemirror_mode": {
        "name": "ipython",
        "version": 3
      },
      "file_extension": ".py",
      "mimetype": "text/x-python",
      "name": "python",
      "nbconvert_exporter": "python",
      "pygments_lexer": "ipython3",
      "version": "3.8.5"
    },
    "colab": {
      "provenance": [],
      "include_colab_link": true
    }
  },
  "nbformat": 4,
  "nbformat_minor": 0
}